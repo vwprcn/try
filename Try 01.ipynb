{
    "cells": [
        {
            "cell_type": "markdown",
            "metadata": {},
            "source": "Description"
        },
        {
            "cell_type": "code",
            "execution_count": 2,
            "metadata": {},
            "outputs": [
                {
                    "data": {
                        "text/html": "<div>\n<style scoped>\n    .dataframe tbody tr th:only-of-type {\n        vertical-align: middle;\n    }\n\n    .dataframe tbody tr th {\n        vertical-align: top;\n    }\n\n    .dataframe thead th {\n        text-align: right;\n    }\n</style>\n<table border=\"1\" class=\"dataframe\">\n  <thead>\n    <tr style=\"text-align: right;\">\n      <th></th>\n      <th>year</th>\n      <th>industry_code_ANZSIC</th>\n      <th>industry_name_ANZSIC</th>\n      <th>rme_size_grp</th>\n      <th>variable</th>\n      <th>value</th>\n      <th>unit</th>\n    </tr>\n  </thead>\n  <tbody>\n    <tr>\n      <th>0</th>\n      <td>2011</td>\n      <td>A</td>\n      <td>Agriculture, Forestry and Fishing</td>\n      <td>a_0</td>\n      <td>Activity unit</td>\n      <td>46134</td>\n      <td>COUNT</td>\n    </tr>\n    <tr>\n      <th>1</th>\n      <td>2011</td>\n      <td>A</td>\n      <td>Agriculture, Forestry and Fishing</td>\n      <td>a_0</td>\n      <td>Rolling mean employees</td>\n      <td>0</td>\n      <td>COUNT</td>\n    </tr>\n    <tr>\n      <th>2</th>\n      <td>2011</td>\n      <td>A</td>\n      <td>Agriculture, Forestry and Fishing</td>\n      <td>a_0</td>\n      <td>Salaries and wages paid</td>\n      <td>279</td>\n      <td>DOLLARS(millions)</td>\n    </tr>\n    <tr>\n      <th>3</th>\n      <td>2011</td>\n      <td>A</td>\n      <td>Agriculture, Forestry and Fishing</td>\n      <td>a_0</td>\n      <td>Sales, government funding, grants and subsidies</td>\n      <td>8187</td>\n      <td>DOLLARS(millions)</td>\n    </tr>\n    <tr>\n      <th>4</th>\n      <td>2011</td>\n      <td>A</td>\n      <td>Agriculture, Forestry and Fishing</td>\n      <td>a_0</td>\n      <td>Total income</td>\n      <td>8866</td>\n      <td>DOLLARS(millions)</td>\n    </tr>\n  </tbody>\n</table>\n</div>",
                        "text/plain": "   year industry_code_ANZSIC               industry_name_ANZSIC rme_size_grp  \\\n0  2011                    A  Agriculture, Forestry and Fishing          a_0   \n1  2011                    A  Agriculture, Forestry and Fishing          a_0   \n2  2011                    A  Agriculture, Forestry and Fishing          a_0   \n3  2011                    A  Agriculture, Forestry and Fishing          a_0   \n4  2011                    A  Agriculture, Forestry and Fishing          a_0   \n\n                                          variable  value               unit  \n0                                    Activity unit  46134              COUNT  \n1                           Rolling mean employees      0              COUNT  \n2                          Salaries and wages paid    279  DOLLARS(millions)  \n3  Sales, government funding, grants and subsidies   8187  DOLLARS(millions)  \n4                                     Total income   8866  DOLLARS(millions)  "
                    },
                    "execution_count": 2,
                    "metadata": {},
                    "output_type": "execute_result"
                }
            ],
            "source": "# The code was removed by Watson Studio for sharing."
        },
        {
            "cell_type": "code",
            "execution_count": null,
            "metadata": {},
            "outputs": [],
            "source": ""
        }
    ],
    "metadata": {
        "kernelspec": {
            "display_name": "Python 3.6",
            "language": "python",
            "name": "python3"
        },
        "language_info": {
            "codemirror_mode": {
                "name": "ipython",
                "version": 3
            },
            "file_extension": ".py",
            "mimetype": "text/x-python",
            "name": "python",
            "nbconvert_exporter": "python",
            "pygments_lexer": "ipython3",
            "version": "3.6.9"
        }
    },
    "nbformat": 4,
    "nbformat_minor": 1
}